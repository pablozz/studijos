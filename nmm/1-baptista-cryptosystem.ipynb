{
 "cells": [
  {
   "cell_type": "markdown",
   "metadata": {},
   "source": [
    "# Baptista cryptography with chaos"
   ]
  },
  {
   "cell_type": "code",
   "execution_count": 16,
   "metadata": {},
   "outputs": [],
   "source": [
    "import numpy as np"
   ]
  },
  {
   "cell_type": "code",
   "execution_count": 17,
   "metadata": {},
   "outputs": [],
   "source": [
    "message = 'Baptista!'\n",
    "\n",
    "# raktas = (r, x0)\n",
    "r = 3.999999 # [~3.86; 4)\n",
    "x0 = 0.5 # (0; 1)"
   ]
  },
  {
   "cell_type": "code",
   "execution_count": 18,
   "metadata": {},
   "outputs": [],
   "source": [
    "max_iterations = pow(2, 16) # 65536"
   ]
  },
  {
   "cell_type": "code",
   "execution_count": 19,
   "metadata": {},
   "outputs": [],
   "source": [
    "def logistic_map(r, x):\n",
    "    return r * x * (1 - x)"
   ]
  },
  {
   "cell_type": "code",
   "execution_count": 20,
   "metadata": {},
   "outputs": [],
   "source": [
    "def get_x_min_max(x0):\n",
    "    x_min = float('inf')\n",
    "    x_max = float('-inf')\n",
    "\n",
    "    x = x0\n",
    "    for i in range(max_iterations):\n",
    "        x = logistic_map(r, x)\n",
    "\n",
    "        if (x < x_min):\n",
    "            x_min = x\n",
    "        \n",
    "        if (x > x_max):\n",
    "            x_max = x\n",
    "        \n",
    "    return [x_min, x_max]"
   ]
  },
  {
   "cell_type": "code",
   "execution_count": 33,
   "metadata": {},
   "outputs": [
    {
     "name": "stdout",
     "output_type": "stream",
     "text": [
      "9.999995001398403e-07 0.99999975\n"
     ]
    }
   ],
   "source": [
    "[x_min, x_max] = get_x_min_max(x0)\n",
    "\n",
    "s_intervals = np.linspace(x_min, x_max, 256) # vertikalės skaidymas į 256 dalis (ASCII sistema)"
   ]
  },
  {
   "cell_type": "code",
   "execution_count": 22,
   "metadata": {},
   "outputs": [],
   "source": [
    "def is_in_interval(intervals, c, x):\n",
    "    return (x >= s_intervals[c] and x < s_intervals[c+1])"
   ]
  },
  {
   "cell_type": "code",
   "execution_count": 23,
   "metadata": {},
   "outputs": [],
   "source": [
    "def message_to_ascii(message):\n",
    "    return [ord(c) for c in message]"
   ]
  },
  {
   "cell_type": "code",
   "execution_count": 24,
   "metadata": {},
   "outputs": [],
   "source": [
    "def encrypt(message, key):\n",
    "    r, x0 = key\n",
    "    message_ascii = message_to_ascii(message)\n",
    "\n",
    "    ciphertext = []\n",
    "    x = x0\n",
    "    for c in message_ascii:\n",
    "        count = 0\n",
    "        while (not is_in_interval(s_intervals, c, x)):\n",
    "            x = logistic_map(r, x)\n",
    "            count += 1\n",
    "            if (count > max_iterations):\n",
    "                raise Exception(\"Invalid key:\\nr ∈ [3.86; 4)\\nx0 ∈ (0; 1)\")\n",
    "        ciphertext.append(count)\n",
    "\n",
    "    return ciphertext"
   ]
  },
  {
   "cell_type": "code",
   "execution_count": 25,
   "metadata": {},
   "outputs": [],
   "source": [
    "def decrypt(ciphertext, key):\n",
    "    r, x0 = key\n",
    "    plaintext = ''\n",
    "    x = x0\n",
    "    for c in ciphertext:\n",
    "        for i in range(c):\n",
    "            x = logistic_map(r, x)\n",
    "\n",
    "        index = np.searchsorted(s_intervals, x) - 1\n",
    "        plaintext += chr(index)\n",
    "    \n",
    "    return plaintext        "
   ]
  },
  {
   "cell_type": "code",
   "execution_count": 32,
   "metadata": {},
   "outputs": [
    {
     "data": {
      "text/plain": [
       "[567, 316, 149, 127, 19, 9, 55, 15, 44]"
      ]
     },
     "execution_count": 32,
     "metadata": {},
     "output_type": "execute_result"
    }
   ],
   "source": [
    "ciphertext = encrypt(message, (r, x0))\n",
    "ciphertext"
   ]
  },
  {
   "cell_type": "code",
   "execution_count": 30,
   "metadata": {},
   "outputs": [
    {
     "data": {
      "text/plain": [
       "'Baptista!'"
      ]
     },
     "execution_count": 30,
     "metadata": {},
     "output_type": "execute_result"
    }
   ],
   "source": [
    "plaintext = decrypt(ciphertext, (r, x0))\n",
    "plaintext"
   ]
  },
  {
   "cell_type": "markdown",
   "metadata": {},
   "source": [
    "### Pastebėjimai:\n",
    "1. r ∈ [3.8; 4) (neįskaitant 4, nes jei raktas=(4, 0.5), tai tada x su antra iteracija įgauna 0 ir gaunasi begalinis ciklas)"
   ]
  }
 ],
 "metadata": {
  "kernelspec": {
   "display_name": "base",
   "language": "python",
   "name": "python3"
  },
  "language_info": {
   "codemirror_mode": {
    "name": "ipython",
    "version": 3
   },
   "file_extension": ".py",
   "mimetype": "text/x-python",
   "name": "python",
   "nbconvert_exporter": "python",
   "pygments_lexer": "ipython3",
   "version": "3.9.7"
  },
  "orig_nbformat": 4
 },
 "nbformat": 4,
 "nbformat_minor": 2
}
